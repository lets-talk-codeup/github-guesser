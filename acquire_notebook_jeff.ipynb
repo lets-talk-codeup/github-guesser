{
 "cells": [
  {
   "cell_type": "markdown",
   "id": "340703fd",
   "metadata": {},
   "source": [
    "# Acquire\n",
    "A notebook to test initial acquire scripts"
   ]
  },
  {
   "cell_type": "code",
   "execution_count": 1,
   "id": "f00d49dc",
   "metadata": {},
   "outputs": [],
   "source": [
    "import requests\n",
    "from bs4 import BeautifulSoup\n",
    "import pandas as pd\n",
    "from time import strftime\n",
    "import json\n",
    "from typing import Dict, List, Optional, Union, cast\n",
    "import requests\n",
    "import time\n",
    "import acquire as ac\n",
    "\n",
    "from env import github_token, github_username"
   ]
  },
  {
   "cell_type": "markdown",
   "id": "cea6531e",
   "metadata": {},
   "source": [
    "### Function to webscrape repo urls"
   ]
  },
  {
   "cell_type": "code",
   "execution_count": 2,
   "id": "8f1cd430",
   "metadata": {},
   "outputs": [],
   "source": [
    "# Function to get the list of repos from Microsoft's GitHub page: \n",
    "def get_repo_links():\n",
    "    \"\"\"\n",
    "    Function to get all of the repo urls on the Microsoft GitHub page\n",
    "    \"\"\"\n",
    "    repo_names = []\n",
    "    base_url = 'https://github.com/orgs/microsoft/repositories?page='\n",
    "    for i in range(1, 51):\n",
    "        response = requests.get(base_url + str(i), headers={\"user-agent\": \"Codeup DS\"})\n",
    "        soup = BeautifulSoup(response.text, features=\"lxml\")\n",
    "        links = [a.attrs[\"href\"] for a in soup.select(\"a\") if 'data-hovercard-type' in a.attrs]\n",
    "        for link in links:\n",
    "            repo_names.append(link)\n",
    "        time.sleep(1) \n",
    "    return repo_names"
   ]
  },
  {
   "cell_type": "markdown",
   "id": "93696d9e",
   "metadata": {},
   "source": [
    "### Below is a work that was used to test the above function:"
   ]
  },
  {
   "cell_type": "code",
   "execution_count": null,
   "id": "e3b1d473",
   "metadata": {},
   "outputs": [],
   "source": [
    "\n",
    "\n",
    "#repo_list = get_repo_links()\n",
    "#repo_list"
   ]
  },
  {
   "cell_type": "code",
   "execution_count": null,
   "id": "61876305",
   "metadata": {},
   "outputs": [],
   "source": [
    "#repo_list = pd.DataFrame(repo_list)\n",
    "#repo_list.to_csv('microsoft_repo_list.csv')"
   ]
  },
  {
   "cell_type": "code",
   "execution_count": null,
   "id": "d8441a74",
   "metadata": {},
   "outputs": [],
   "source": [
    "#len(repo_list)"
   ]
  },
  {
   "cell_type": "code",
   "execution_count": 4,
   "id": "eb93a2ef",
   "metadata": {},
   "outputs": [],
   "source": [
    "repos = pd.read_csv('microsoft_repo_list.csv')"
   ]
  },
  {
   "cell_type": "code",
   "execution_count": 6,
   "id": "83659670",
   "metadata": {},
   "outputs": [
    {
     "data": {
      "text/html": [
       "<div>\n",
       "<style scoped>\n",
       "    .dataframe tbody tr th:only-of-type {\n",
       "        vertical-align: middle;\n",
       "    }\n",
       "\n",
       "    .dataframe tbody tr th {\n",
       "        vertical-align: top;\n",
       "    }\n",
       "\n",
       "    .dataframe thead th {\n",
       "        text-align: right;\n",
       "    }\n",
       "</style>\n",
       "<table border=\"1\" class=\"dataframe\">\n",
       "  <thead>\n",
       "    <tr style=\"text-align: right;\">\n",
       "      <th></th>\n",
       "      <th>repo</th>\n",
       "      <th>language</th>\n",
       "      <th>readme_contents</th>\n",
       "    </tr>\n",
       "  </thead>\n",
       "  <tbody>\n",
       "    <tr>\n",
       "      <th>0</th>\n",
       "      <td>microsoft/react-native-windows</td>\n",
       "      <td>C++</td>\n",
       "      <td>&lt;h1 align=\"center\"&gt; React Native for Windows &lt;...</td>\n",
       "    </tr>\n",
       "    <tr>\n",
       "      <th>1</th>\n",
       "      <td>microsoft/fast</td>\n",
       "      <td>TypeScript</td>\n",
       "      <td>\\n![fast_banner_github_914.png](https://static...</td>\n",
       "    </tr>\n",
       "    <tr>\n",
       "      <th>2</th>\n",
       "      <td>microsoft/Application-Insights-Workbooks</td>\n",
       "      <td>JSON</td>\n",
       "      <td># Azure Monitor Workbook Templates [![Build St...</td>\n",
       "    </tr>\n",
       "    <tr>\n",
       "      <th>3</th>\n",
       "      <td>microsoft/gctoolkit</td>\n",
       "      <td>Java</td>\n",
       "      <td># Microsoft GCToolKit\\n\\nGCToolkit is a set of...</td>\n",
       "    </tr>\n",
       "    <tr>\n",
       "      <th>4</th>\n",
       "      <td>microsoft/winget-cli-restsource</td>\n",
       "      <td>C#</td>\n",
       "      <td># Welcome to the winget-cli-restsource reposit...</td>\n",
       "    </tr>\n",
       "  </tbody>\n",
       "</table>\n",
       "</div>"
      ],
      "text/plain": [
       "                                       repo    language  \\\n",
       "0            microsoft/react-native-windows         C++   \n",
       "1                            microsoft/fast  TypeScript   \n",
       "2  microsoft/Application-Insights-Workbooks        JSON   \n",
       "3                       microsoft/gctoolkit        Java   \n",
       "4           microsoft/winget-cli-restsource          C#   \n",
       "\n",
       "                                     readme_contents  \n",
       "0  <h1 align=\"center\"> React Native for Windows <...  \n",
       "1  \\n![fast_banner_github_914.png](https://static...  \n",
       "2  # Azure Monitor Workbook Templates [![Build St...  \n",
       "3  # Microsoft GCToolKit\\n\\nGCToolkit is a set of...  \n",
       "4  # Welcome to the winget-cli-restsource reposit...  "
      ]
     },
     "execution_count": 6,
     "metadata": {},
     "output_type": "execute_result"
    }
   ],
   "source": [
    "test = pd.read_json('data.json')\n",
    "test.head()"
   ]
  },
  {
   "cell_type": "code",
   "execution_count": null,
   "id": "9cf7debf",
   "metadata": {},
   "outputs": [],
   "source": [
    "#repos = repos.drop(columns='Unnamed: 0')\n"
   ]
  },
  {
   "cell_type": "code",
   "execution_count": null,
   "id": "9ef099a9",
   "metadata": {},
   "outputs": [],
   "source": [
    "#repos =repos.rename(columns={'0': 'repo_names'})"
   ]
  },
  {
   "cell_type": "code",
   "execution_count": null,
   "id": "59a6fa6a",
   "metadata": {},
   "outputs": [],
   "source": [
    "#repos.repo_names"
   ]
  },
  {
   "cell_type": "code",
   "execution_count": null,
   "id": "db32f0dd",
   "metadata": {},
   "outputs": [],
   "source": [
    "#repos = pd.read_csv('microsoft_repo_list.csv', index_col=0)\n",
    "#repos = repos.rename(columns={'0': 'repo_names'})\n",
    "\n",
    "#REPOS = list(repos.repo_names)"
   ]
  },
  {
   "cell_type": "code",
   "execution_count": null,
   "id": "f9fb7123",
   "metadata": {},
   "outputs": [],
   "source": [
    "#REPOS"
   ]
  },
  {
   "cell_type": "code",
   "execution_count": null,
   "id": "b60695a4",
   "metadata": {},
   "outputs": [],
   "source": [
    "#df = pd.DataFrame(repos.repo_names.str[1:], columns=['repo_names'])\n",
    "#df.to_csv('microsoft_repo_list.csv')"
   ]
  },
  {
   "cell_type": "code",
   "execution_count": null,
   "id": "9f258804",
   "metadata": {},
   "outputs": [],
   "source": [
    "#repos = pd.read_csv('microsoft_repo_list.csv', index_col=0)\n",
    "#repos = repos.rename(columns={'0': 'repo_names'})\n",
    "\n",
    "#REPOS = list(repos.repo_names)"
   ]
  },
  {
   "cell_type": "code",
   "execution_count": null,
   "id": "8f7fc828",
   "metadata": {},
   "outputs": [],
   "source": [
    "#REPOS"
   ]
  },
  {
   "cell_type": "code",
   "execution_count": null,
   "id": "9e368f7e",
   "metadata": {},
   "outputs": [],
   "source": []
  }
 ],
 "metadata": {
  "kernelspec": {
   "display_name": "Python 3",
   "language": "python",
   "name": "python3"
  },
  "language_info": {
   "codemirror_mode": {
    "name": "ipython",
    "version": 3
   },
   "file_extension": ".py",
   "mimetype": "text/x-python",
   "name": "python",
   "nbconvert_exporter": "python",
   "pygments_lexer": "ipython3",
   "version": "3.8.8"
  }
 },
 "nbformat": 4,
 "nbformat_minor": 5
}
