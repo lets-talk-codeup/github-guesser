{
 "cells": [
  {
   "cell_type": "markdown",
   "id": "d93fd3c3",
   "metadata": {},
   "source": [
    "<img src=\"https://cdn.vox-cdn.com/thumbor/Z9YA9yAEq8x3-NL660dkqQxNPAM=/0x0:1980x1320/1200x800/filters:focal(832x502:1148x818)/cdn.vox-cdn.com/uploads/chorus_image/image/59943837/microsoftgithublove.0.jpg\" alt=\"mcrsft\" class=\"bg-primary mb-1\" width=\"500px\" align=\"right\">\n",
    "\n",
    "# NLP Modeling - Team Project\n",
    "### Using data from Microsoft's GitHub Page\n",
    "\n",
    "By:\n",
    "- Jason Tellez\n",
    "- Jeff Akins\n",
    "- Veronica Reyes\n",
    "- Jacob Paxton"
   ]
  },
  {
   "attachments": {},
   "cell_type": "markdown",
   "id": "f0543e5b",
   "metadata": {},
   "source": [
    "## Project Goal\n",
    "The goal of this project was to build a model that can predict the primary programming language for a GitHub repository, given the text of the README file. To achieve this, we first had to decide which and how many repos we wanted to acquire. Microsoft has a large number of repos on its GitHub site with a wide variety of coding languages, so we determined that we could pull the README and coding language from their repos. This required the use of a variety of web scraping and Natural Language Processing tools as well as use of GitHub's API. In the end we acquired 1500 READMEs along with their associated primary coding language from Microsoft's GitHub page. The results are contained in this notebook as well as in a presentation slide deck.\n"
   ]
  },
  {
   "attachments": {},
   "cell_type": "markdown",
   "id": "fa35bc63",
   "metadata": {},
   "source": [
    "## Executive Summary\n",
    "After acquiring and exploring the READMEs collected, we determined that the most common coding language in Microsoft's repos was TypeScript. Therefore, we decided to use classification modeling to attempt to predict whether the repos used TypeScript or not based on features from the READMEs. We were able to predict with an 84% accuracy whether a repo used TypeScript or not based on types of words and word length of a README."
   ]
  },
  {
   "cell_type": "markdown",
   "id": "70a9f367",
   "metadata": {},
   "source": [
    "### How to Recreate:\n",
    "There are two methods that you can use to recreate this project.\n",
    "1. **Quick Method:** Utilize our final .json file with the cleaned README files. This is the simplest method and will produce the same results that we were able to achieve.\n",
    "2. **Long Method:** Start from scratch using the same functions that we used. This will pull in the most recent repos from Microsoft's GitHub page and therefore will produce slightly different results from what we achieved. This method will also take longer e.g. it took us nearly 30 minutes to download the data from the 1500 repos. "
   ]
  },
  {
   "cell_type": "markdown",
   "id": "47380881",
   "metadata": {},
   "source": [
    "##### Imports"
   ]
  },
  {
   "cell_type": "code",
   "execution_count": 2,
   "id": "c0d3f8e4",
   "metadata": {},
   "outputs": [],
   "source": [
    "# For websraping and NLP\n",
    "import requests\n",
    "from bs4 import BeautifulSoup\n",
    "from typing import Dict, List, Optional, Union, cast\n",
    "\n",
    "# For Timestamps\n",
    "import time\n",
    "from time import strftime\n",
    "\n",
    "import pandas as pd\n",
    "\n",
    "import json\n",
    "import wrangle as wr\n",
    "\n",
    "# Follow the instructions on the acquire file for creating your env file if needed\n",
    "from env import github_token, github_username"
   ]
  },
  {
   "cell_type": "markdown",
   "id": "9d4e5a3b",
   "metadata": {},
   "source": [
    "## Acquire"
   ]
  },
  {
   "cell_type": "markdown",
   "id": "8f067fb9",
   "metadata": {},
   "source": [
    "##### Using the Quick Method:\n",
    "1. Download this [file](https://drive.google.com/file/d/1aec5UqivmWouJ0DqFM-3Nn3yE1Bd-E7f/view)\n",
    "2. Save the file to the same folder as this notebook. \n",
    "3. Run the next cell."
   ]
  },
  {
   "cell_type": "code",
   "execution_count": 5,
   "id": "7428b1e2",
   "metadata": {},
   "outputs": [],
   "source": [
    "df = pd.read_json('cleaned_readmes.json')"
   ]
  },
  {
   "cell_type": "markdown",
   "id": "30e6e6c7",
   "metadata": {},
   "source": [
    "##### Using the Long Method\n",
    "1. Make a env file with a github personal access token.\n",
    "    - Go here and generate a personal access [token](https://github.com/settings/tokens)\n",
    "    - You do _not_ need select any scopes, i.e. leave all the checkboxes unchecked\n",
    "    - Save it in your env.py file under the variable `github_token`\n",
    "    - Add your github username to your env.py file under the variable `github_username`\n",
    "2. Uncomment and run the functions and follow the instructions in the below cell:"
   ]
  },
  {
   "cell_type": "code",
   "execution_count": 6,
   "id": "82ef883e",
   "metadata": {},
   "outputs": [],
   "source": [
    "# long method:\n",
    "# df = wr.get_repo_links()\n",
    "# df.to_csv('microsoft_repo_list.csv')\n",
    "# -- Run the aquire.py file in your terminal using: python acquire.py\n",
    "# -- Once it is finished, run the next function to clean the data:\n",
    "# df = wr.wrangle()"
   ]
  },
  {
   "cell_type": "markdown",
   "id": "c118a9c3",
   "metadata": {},
   "source": [
    "## Preparation\n",
    "The following steps were taken to clean our data:\n",
    "1. Dropped rows with null values in the 'language' column\n",
    "2. Reset the index index\n",
    "3. Created a series consisting of normalized string values and combined the series with the dataframe\n",
    "4. Created normalized, lemmatized strings with no stopwords from the 'clean' column\n",
    "5. Dropped rows that had null values in the 'content' columns and reset the index\n",
    "6. Created a word count and a character count column \n",
    "7. Created a target column that shows whether repo language is TypeScript or not\n",
    "8. Dropped the original readme contents column\n",
    "\n",
    "This created the following results:"
   ]
  },
  {
   "cell_type": "code",
   "execution_count": 7,
   "id": "b45a07e6",
   "metadata": {},
   "outputs": [
    {
     "name": "stdout",
     "output_type": "stream",
     "text": [
      "<class 'pandas.core.frame.DataFrame'>\n",
      "Int64Index: 1370 entries, 0 to 1369\n",
      "Data columns (total 7 columns):\n",
      " #   Column              Non-Null Count  Dtype \n",
      "---  ------              --------------  ----- \n",
      " 0   repo                1370 non-null   object\n",
      " 1   language            1370 non-null   object\n",
      " 2   clean               1370 non-null   object\n",
      " 3   lemma_no_stopwords  1370 non-null   object\n",
      " 4   clean_word_count    1370 non-null   int64 \n",
      " 5   readme_char_count   1370 non-null   int64 \n",
      " 6   is_TypeScript       1370 non-null   bool  \n",
      "dtypes: bool(1), int64(2), object(4)\n",
      "memory usage: 76.3+ KB\n"
     ]
    }
   ],
   "source": [
    "df.info()"
   ]
  },
  {
   "cell_type": "code",
   "execution_count": 8,
   "id": "d4d44035",
   "metadata": {},
   "outputs": [
    {
     "data": {
      "text/html": [
       "<div>\n",
       "<style scoped>\n",
       "    .dataframe tbody tr th:only-of-type {\n",
       "        vertical-align: middle;\n",
       "    }\n",
       "\n",
       "    .dataframe tbody tr th {\n",
       "        vertical-align: top;\n",
       "    }\n",
       "\n",
       "    .dataframe thead th {\n",
       "        text-align: right;\n",
       "    }\n",
       "</style>\n",
       "<table border=\"1\" class=\"dataframe\">\n",
       "  <thead>\n",
       "    <tr style=\"text-align: right;\">\n",
       "      <th></th>\n",
       "      <th>repo</th>\n",
       "      <th>language</th>\n",
       "      <th>clean</th>\n",
       "      <th>lemma_no_stopwords</th>\n",
       "      <th>clean_word_count</th>\n",
       "      <th>readme_char_count</th>\n",
       "      <th>is_TypeScript</th>\n",
       "    </tr>\n",
       "  </thead>\n",
       "  <tbody>\n",
       "    <tr>\n",
       "      <th>0</th>\n",
       "      <td>microsoft/react-native-windows</td>\n",
       "      <td>C++</td>\n",
       "      <td>react native for windows build native windows ...</td>\n",
       "      <td>react native window native window apps react h...</td>\n",
       "      <td>536</td>\n",
       "      <td>4288</td>\n",
       "      <td>False</td>\n",
       "    </tr>\n",
       "    <tr>\n",
       "      <th>1</th>\n",
       "      <td>microsoft/fast</td>\n",
       "      <td>TypeScript</td>\n",
       "      <td>fastbannergithub914pnghttpsstaticfastdesignass...</td>\n",
       "      <td>fastbannergithub914pnghttpsstaticfastdesignass...</td>\n",
       "      <td>981</td>\n",
       "      <td>8539</td>\n",
       "      <td>True</td>\n",
       "    </tr>\n",
       "    <tr>\n",
       "      <th>2</th>\n",
       "      <td>microsoft/Application-Insights-Workbooks</td>\n",
       "      <td>JSON</td>\n",
       "      <td>azure monitor workbook templates build statush...</td>\n",
       "      <td>azure monitor workbook template statushttpsgit...</td>\n",
       "      <td>385</td>\n",
       "      <td>3411</td>\n",
       "      <td>False</td>\n",
       "    </tr>\n",
       "    <tr>\n",
       "      <th>3</th>\n",
       "      <td>microsoft/gctoolkit</td>\n",
       "      <td>Java</td>\n",
       "      <td>microsoft gctoolkit gctoolkit is a set of libr...</td>\n",
       "      <td>microsoft gctoolkit gctoolkit set library anal...</td>\n",
       "      <td>349</td>\n",
       "      <td>2815</td>\n",
       "      <td>False</td>\n",
       "    </tr>\n",
       "    <tr>\n",
       "      <th>4</th>\n",
       "      <td>microsoft/winget-cli-restsource</td>\n",
       "      <td>C#</td>\n",
       "      <td>welcome to the wingetclirestsource repository ...</td>\n",
       "      <td>welcome wingetclirestsource repository buildin...</td>\n",
       "      <td>780</td>\n",
       "      <td>5557</td>\n",
       "      <td>False</td>\n",
       "    </tr>\n",
       "  </tbody>\n",
       "</table>\n",
       "</div>"
      ],
      "text/plain": [
       "                                       repo    language  \\\n",
       "0            microsoft/react-native-windows         C++   \n",
       "1                            microsoft/fast  TypeScript   \n",
       "2  microsoft/Application-Insights-Workbooks        JSON   \n",
       "3                       microsoft/gctoolkit        Java   \n",
       "4           microsoft/winget-cli-restsource          C#   \n",
       "\n",
       "                                               clean  \\\n",
       "0  react native for windows build native windows ...   \n",
       "1  fastbannergithub914pnghttpsstaticfastdesignass...   \n",
       "2  azure monitor workbook templates build statush...   \n",
       "3  microsoft gctoolkit gctoolkit is a set of libr...   \n",
       "4  welcome to the wingetclirestsource repository ...   \n",
       "\n",
       "                                  lemma_no_stopwords  clean_word_count  \\\n",
       "0  react native window native window apps react h...               536   \n",
       "1  fastbannergithub914pnghttpsstaticfastdesignass...               981   \n",
       "2  azure monitor workbook template statushttpsgit...               385   \n",
       "3  microsoft gctoolkit gctoolkit set library anal...               349   \n",
       "4  welcome wingetclirestsource repository buildin...               780   \n",
       "\n",
       "   readme_char_count  is_TypeScript  \n",
       "0               4288          False  \n",
       "1               8539           True  \n",
       "2               3411          False  \n",
       "3               2815          False  \n",
       "4               5557          False  "
      ]
     },
     "execution_count": 8,
     "metadata": {},
     "output_type": "execute_result"
    }
   ],
   "source": [
    "df.head()"
   ]
  },
  {
   "cell_type": "markdown",
   "id": "bdc73f96",
   "metadata": {},
   "source": [
    "## Exploration and Pre-processing"
   ]
  },
  {
   "cell_type": "code",
   "execution_count": null,
   "id": "89c7a9f7",
   "metadata": {},
   "outputs": [],
   "source": []
  },
  {
   "cell_type": "markdown",
   "id": "731887da",
   "metadata": {},
   "source": [
    "## Modeling"
   ]
  },
  {
   "cell_type": "code",
   "execution_count": null,
   "id": "1b69d033",
   "metadata": {},
   "outputs": [],
   "source": []
  }
 ],
 "metadata": {
  "kernelspec": {
   "display_name": "Python 3",
   "language": "python",
   "name": "python3"
  },
  "language_info": {
   "codemirror_mode": {
    "name": "ipython",
    "version": 3
   },
   "file_extension": ".py",
   "mimetype": "text/x-python",
   "name": "python",
   "nbconvert_exporter": "python",
   "pygments_lexer": "ipython3",
   "version": "3.8.8"
  }
 },
 "nbformat": 4,
 "nbformat_minor": 5
}
